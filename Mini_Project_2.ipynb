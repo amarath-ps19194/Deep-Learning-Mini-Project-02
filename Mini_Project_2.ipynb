{
  "nbformat": 4,
  "nbformat_minor": 0,
  "metadata": {
    "colab": {
      "provenance": []
    },
    "kernelspec": {
      "name": "python3",
      "display_name": "Python 3"
    },
    "language_info": {
      "name": "python"
    }
  },
  "cells": [
    {
      "cell_type": "markdown",
      "source": [
        "#Importing relevant libraries"
      ],
      "metadata": {
        "id": "noZDoPzSN0Bx"
      }
    },
    {
      "cell_type": "code",
      "source": [
        "import os\n",
        "import pandas as pd\n",
        "import numpy as np\n",
        "from sklearn.model_selection import train_test_split\n",
        "from sklearn.preprocessing import MinMaxScaler\n",
        "from keras.preprocessing.sequence import TimeseriesGenerator\n",
        "from keras.models import Sequential\n",
        "from keras.layers import LSTM, Dense,Dropout\n",
        "\n",
        "import matplotlib.pyplot as plt"
      ],
      "metadata": {
        "id": "DzgGJlRfOCwW"
      },
      "execution_count": 258,
      "outputs": []
    },
    {
      "cell_type": "markdown",
      "source": [
        "#Setting up the data folder"
      ],
      "metadata": {
        "id": "zhOBt2AUOgoO"
      }
    },
    {
      "cell_type": "code",
      "source": [
        "from google.colab import drive\n",
        "drive.mount('/content/drive')"
      ],
      "metadata": {
        "id": "7nHumNvKOp6B",
        "colab": {
          "base_uri": "https://localhost:8080/"
        },
        "outputId": "475b380e-05db-4c1c-b11e-db6c36733c11"
      },
      "execution_count": 259,
      "outputs": [
        {
          "output_type": "stream",
          "name": "stdout",
          "text": [
            "Drive already mounted at /content/drive; to attempt to forcibly remount, call drive.mount(\"/content/drive\", force_remount=True).\n"
          ]
        }
      ]
    },
    {
      "cell_type": "code",
      "source": [
        "os.chdir(\"/content/drive/My Drive/Mini_Project_2/\")\n",
        "os.getcwd()"
      ],
      "metadata": {
        "id": "BAQI_mnuO_Ce",
        "colab": {
          "base_uri": "https://localhost:8080/",
          "height": 35
        },
        "outputId": "19bb8272-7b47-42cc-d7ff-5d6fb4f14128"
      },
      "execution_count": 260,
      "outputs": [
        {
          "output_type": "execute_result",
          "data": {
            "text/plain": [
              "'/content/drive/My Drive/Mini_Project_2'"
            ],
            "application/vnd.google.colaboratory.intrinsic+json": {
              "type": "string"
            }
          },
          "metadata": {},
          "execution_count": 260
        }
      ]
    },
    {
      "cell_type": "markdown",
      "source": [
        "#Reading the data file"
      ],
      "metadata": {
        "id": "4G5LpKcJOvqL"
      }
    },
    {
      "cell_type": "code",
      "source": [
        "df = pd.read_csv(\"/content/drive/My Drive/Mini_Project_2/LOLC_Historical_Data.csv\")\n",
        "df.head(10)"
      ],
      "metadata": {
        "id": "XTbJC9jjPO3E",
        "colab": {
          "base_uri": "https://localhost:8080/",
          "height": 363
        },
        "outputId": "68524386-d0f3-448f-a6a1-bf9fd05b690a"
      },
      "execution_count": 261,
      "outputs": [
        {
          "output_type": "execute_result",
          "data": {
            "text/plain": [
              "         Date   Price    Open    High     Low    Vol. Change %\n",
              "0  12/29/2023  360.00  359.50  360.00  350.00  35.38K    1.12%\n",
              "1  12/28/2023  356.00  360.00  360.00  350.00  11.54K   -1.04%\n",
              "2  12/27/2023  359.75  362.25  364.00  355.75   7.51K   -0.76%\n",
              "3  12/22/2023  362.50  362.50  365.00  359.50  14.79K    0.14%\n",
              "4  12/21/2023  362.00  365.00  369.00  362.00   3.37K   -1.09%\n",
              "5  12/20/2023  366.00  365.00  369.50  362.50  11.76K    0.27%\n",
              "6  12/19/2023  365.00  368.00  368.25  363.50   5.30K   -1.28%\n",
              "7  12/18/2023  369.75  372.00  372.00  366.75   5.44K   -0.67%\n",
              "8  12/15/2023  372.25  370.00  374.00  368.00   7.65K    0.61%\n",
              "9  12/14/2023  370.00  371.75  371.75  369.75  14.74K    1.09%"
            ],
            "text/html": [
              "\n",
              "  <div id=\"df-2aa4a4f3-0dab-4810-a719-da66e18b94e0\" class=\"colab-df-container\">\n",
              "    <div>\n",
              "<style scoped>\n",
              "    .dataframe tbody tr th:only-of-type {\n",
              "        vertical-align: middle;\n",
              "    }\n",
              "\n",
              "    .dataframe tbody tr th {\n",
              "        vertical-align: top;\n",
              "    }\n",
              "\n",
              "    .dataframe thead th {\n",
              "        text-align: right;\n",
              "    }\n",
              "</style>\n",
              "<table border=\"1\" class=\"dataframe\">\n",
              "  <thead>\n",
              "    <tr style=\"text-align: right;\">\n",
              "      <th></th>\n",
              "      <th>Date</th>\n",
              "      <th>Price</th>\n",
              "      <th>Open</th>\n",
              "      <th>High</th>\n",
              "      <th>Low</th>\n",
              "      <th>Vol.</th>\n",
              "      <th>Change %</th>\n",
              "    </tr>\n",
              "  </thead>\n",
              "  <tbody>\n",
              "    <tr>\n",
              "      <th>0</th>\n",
              "      <td>12/29/2023</td>\n",
              "      <td>360.00</td>\n",
              "      <td>359.50</td>\n",
              "      <td>360.00</td>\n",
              "      <td>350.00</td>\n",
              "      <td>35.38K</td>\n",
              "      <td>1.12%</td>\n",
              "    </tr>\n",
              "    <tr>\n",
              "      <th>1</th>\n",
              "      <td>12/28/2023</td>\n",
              "      <td>356.00</td>\n",
              "      <td>360.00</td>\n",
              "      <td>360.00</td>\n",
              "      <td>350.00</td>\n",
              "      <td>11.54K</td>\n",
              "      <td>-1.04%</td>\n",
              "    </tr>\n",
              "    <tr>\n",
              "      <th>2</th>\n",
              "      <td>12/27/2023</td>\n",
              "      <td>359.75</td>\n",
              "      <td>362.25</td>\n",
              "      <td>364.00</td>\n",
              "      <td>355.75</td>\n",
              "      <td>7.51K</td>\n",
              "      <td>-0.76%</td>\n",
              "    </tr>\n",
              "    <tr>\n",
              "      <th>3</th>\n",
              "      <td>12/22/2023</td>\n",
              "      <td>362.50</td>\n",
              "      <td>362.50</td>\n",
              "      <td>365.00</td>\n",
              "      <td>359.50</td>\n",
              "      <td>14.79K</td>\n",
              "      <td>0.14%</td>\n",
              "    </tr>\n",
              "    <tr>\n",
              "      <th>4</th>\n",
              "      <td>12/21/2023</td>\n",
              "      <td>362.00</td>\n",
              "      <td>365.00</td>\n",
              "      <td>369.00</td>\n",
              "      <td>362.00</td>\n",
              "      <td>3.37K</td>\n",
              "      <td>-1.09%</td>\n",
              "    </tr>\n",
              "    <tr>\n",
              "      <th>5</th>\n",
              "      <td>12/20/2023</td>\n",
              "      <td>366.00</td>\n",
              "      <td>365.00</td>\n",
              "      <td>369.50</td>\n",
              "      <td>362.50</td>\n",
              "      <td>11.76K</td>\n",
              "      <td>0.27%</td>\n",
              "    </tr>\n",
              "    <tr>\n",
              "      <th>6</th>\n",
              "      <td>12/19/2023</td>\n",
              "      <td>365.00</td>\n",
              "      <td>368.00</td>\n",
              "      <td>368.25</td>\n",
              "      <td>363.50</td>\n",
              "      <td>5.30K</td>\n",
              "      <td>-1.28%</td>\n",
              "    </tr>\n",
              "    <tr>\n",
              "      <th>7</th>\n",
              "      <td>12/18/2023</td>\n",
              "      <td>369.75</td>\n",
              "      <td>372.00</td>\n",
              "      <td>372.00</td>\n",
              "      <td>366.75</td>\n",
              "      <td>5.44K</td>\n",
              "      <td>-0.67%</td>\n",
              "    </tr>\n",
              "    <tr>\n",
              "      <th>8</th>\n",
              "      <td>12/15/2023</td>\n",
              "      <td>372.25</td>\n",
              "      <td>370.00</td>\n",
              "      <td>374.00</td>\n",
              "      <td>368.00</td>\n",
              "      <td>7.65K</td>\n",
              "      <td>0.61%</td>\n",
              "    </tr>\n",
              "    <tr>\n",
              "      <th>9</th>\n",
              "      <td>12/14/2023</td>\n",
              "      <td>370.00</td>\n",
              "      <td>371.75</td>\n",
              "      <td>371.75</td>\n",
              "      <td>369.75</td>\n",
              "      <td>14.74K</td>\n",
              "      <td>1.09%</td>\n",
              "    </tr>\n",
              "  </tbody>\n",
              "</table>\n",
              "</div>\n",
              "    <div class=\"colab-df-buttons\">\n",
              "\n",
              "  <div class=\"colab-df-container\">\n",
              "    <button class=\"colab-df-convert\" onclick=\"convertToInteractive('df-2aa4a4f3-0dab-4810-a719-da66e18b94e0')\"\n",
              "            title=\"Convert this dataframe to an interactive table.\"\n",
              "            style=\"display:none;\">\n",
              "\n",
              "  <svg xmlns=\"http://www.w3.org/2000/svg\" height=\"24px\" viewBox=\"0 -960 960 960\">\n",
              "    <path d=\"M120-120v-720h720v720H120Zm60-500h600v-160H180v160Zm220 220h160v-160H400v160Zm0 220h160v-160H400v160ZM180-400h160v-160H180v160Zm440 0h160v-160H620v160ZM180-180h160v-160H180v160Zm440 0h160v-160H620v160Z\"/>\n",
              "  </svg>\n",
              "    </button>\n",
              "\n",
              "  <style>\n",
              "    .colab-df-container {\n",
              "      display:flex;\n",
              "      gap: 12px;\n",
              "    }\n",
              "\n",
              "    .colab-df-convert {\n",
              "      background-color: #E8F0FE;\n",
              "      border: none;\n",
              "      border-radius: 50%;\n",
              "      cursor: pointer;\n",
              "      display: none;\n",
              "      fill: #1967D2;\n",
              "      height: 32px;\n",
              "      padding: 0 0 0 0;\n",
              "      width: 32px;\n",
              "    }\n",
              "\n",
              "    .colab-df-convert:hover {\n",
              "      background-color: #E2EBFA;\n",
              "      box-shadow: 0px 1px 2px rgba(60, 64, 67, 0.3), 0px 1px 3px 1px rgba(60, 64, 67, 0.15);\n",
              "      fill: #174EA6;\n",
              "    }\n",
              "\n",
              "    .colab-df-buttons div {\n",
              "      margin-bottom: 4px;\n",
              "    }\n",
              "\n",
              "    [theme=dark] .colab-df-convert {\n",
              "      background-color: #3B4455;\n",
              "      fill: #D2E3FC;\n",
              "    }\n",
              "\n",
              "    [theme=dark] .colab-df-convert:hover {\n",
              "      background-color: #434B5C;\n",
              "      box-shadow: 0px 1px 3px 1px rgba(0, 0, 0, 0.15);\n",
              "      filter: drop-shadow(0px 1px 2px rgba(0, 0, 0, 0.3));\n",
              "      fill: #FFFFFF;\n",
              "    }\n",
              "  </style>\n",
              "\n",
              "    <script>\n",
              "      const buttonEl =\n",
              "        document.querySelector('#df-2aa4a4f3-0dab-4810-a719-da66e18b94e0 button.colab-df-convert');\n",
              "      buttonEl.style.display =\n",
              "        google.colab.kernel.accessAllowed ? 'block' : 'none';\n",
              "\n",
              "      async function convertToInteractive(key) {\n",
              "        const element = document.querySelector('#df-2aa4a4f3-0dab-4810-a719-da66e18b94e0');\n",
              "        const dataTable =\n",
              "          await google.colab.kernel.invokeFunction('convertToInteractive',\n",
              "                                                    [key], {});\n",
              "        if (!dataTable) return;\n",
              "\n",
              "        const docLinkHtml = 'Like what you see? Visit the ' +\n",
              "          '<a target=\"_blank\" href=https://colab.research.google.com/notebooks/data_table.ipynb>data table notebook</a>'\n",
              "          + ' to learn more about interactive tables.';\n",
              "        element.innerHTML = '';\n",
              "        dataTable['output_type'] = 'display_data';\n",
              "        await google.colab.output.renderOutput(dataTable, element);\n",
              "        const docLink = document.createElement('div');\n",
              "        docLink.innerHTML = docLinkHtml;\n",
              "        element.appendChild(docLink);\n",
              "      }\n",
              "    </script>\n",
              "  </div>\n",
              "\n",
              "\n",
              "<div id=\"df-e272711d-0785-4b0c-9497-de8334a40366\">\n",
              "  <button class=\"colab-df-quickchart\" onclick=\"quickchart('df-e272711d-0785-4b0c-9497-de8334a40366')\"\n",
              "            title=\"Suggest charts\"\n",
              "            style=\"display:none;\">\n",
              "\n",
              "<svg xmlns=\"http://www.w3.org/2000/svg\" height=\"24px\"viewBox=\"0 0 24 24\"\n",
              "     width=\"24px\">\n",
              "    <g>\n",
              "        <path d=\"M19 3H5c-1.1 0-2 .9-2 2v14c0 1.1.9 2 2 2h14c1.1 0 2-.9 2-2V5c0-1.1-.9-2-2-2zM9 17H7v-7h2v7zm4 0h-2V7h2v10zm4 0h-2v-4h2v4z\"/>\n",
              "    </g>\n",
              "</svg>\n",
              "  </button>\n",
              "\n",
              "<style>\n",
              "  .colab-df-quickchart {\n",
              "      --bg-color: #E8F0FE;\n",
              "      --fill-color: #1967D2;\n",
              "      --hover-bg-color: #E2EBFA;\n",
              "      --hover-fill-color: #174EA6;\n",
              "      --disabled-fill-color: #AAA;\n",
              "      --disabled-bg-color: #DDD;\n",
              "  }\n",
              "\n",
              "  [theme=dark] .colab-df-quickchart {\n",
              "      --bg-color: #3B4455;\n",
              "      --fill-color: #D2E3FC;\n",
              "      --hover-bg-color: #434B5C;\n",
              "      --hover-fill-color: #FFFFFF;\n",
              "      --disabled-bg-color: #3B4455;\n",
              "      --disabled-fill-color: #666;\n",
              "  }\n",
              "\n",
              "  .colab-df-quickchart {\n",
              "    background-color: var(--bg-color);\n",
              "    border: none;\n",
              "    border-radius: 50%;\n",
              "    cursor: pointer;\n",
              "    display: none;\n",
              "    fill: var(--fill-color);\n",
              "    height: 32px;\n",
              "    padding: 0;\n",
              "    width: 32px;\n",
              "  }\n",
              "\n",
              "  .colab-df-quickchart:hover {\n",
              "    background-color: var(--hover-bg-color);\n",
              "    box-shadow: 0 1px 2px rgba(60, 64, 67, 0.3), 0 1px 3px 1px rgba(60, 64, 67, 0.15);\n",
              "    fill: var(--button-hover-fill-color);\n",
              "  }\n",
              "\n",
              "  .colab-df-quickchart-complete:disabled,\n",
              "  .colab-df-quickchart-complete:disabled:hover {\n",
              "    background-color: var(--disabled-bg-color);\n",
              "    fill: var(--disabled-fill-color);\n",
              "    box-shadow: none;\n",
              "  }\n",
              "\n",
              "  .colab-df-spinner {\n",
              "    border: 2px solid var(--fill-color);\n",
              "    border-color: transparent;\n",
              "    border-bottom-color: var(--fill-color);\n",
              "    animation:\n",
              "      spin 1s steps(1) infinite;\n",
              "  }\n",
              "\n",
              "  @keyframes spin {\n",
              "    0% {\n",
              "      border-color: transparent;\n",
              "      border-bottom-color: var(--fill-color);\n",
              "      border-left-color: var(--fill-color);\n",
              "    }\n",
              "    20% {\n",
              "      border-color: transparent;\n",
              "      border-left-color: var(--fill-color);\n",
              "      border-top-color: var(--fill-color);\n",
              "    }\n",
              "    30% {\n",
              "      border-color: transparent;\n",
              "      border-left-color: var(--fill-color);\n",
              "      border-top-color: var(--fill-color);\n",
              "      border-right-color: var(--fill-color);\n",
              "    }\n",
              "    40% {\n",
              "      border-color: transparent;\n",
              "      border-right-color: var(--fill-color);\n",
              "      border-top-color: var(--fill-color);\n",
              "    }\n",
              "    60% {\n",
              "      border-color: transparent;\n",
              "      border-right-color: var(--fill-color);\n",
              "    }\n",
              "    80% {\n",
              "      border-color: transparent;\n",
              "      border-right-color: var(--fill-color);\n",
              "      border-bottom-color: var(--fill-color);\n",
              "    }\n",
              "    90% {\n",
              "      border-color: transparent;\n",
              "      border-bottom-color: var(--fill-color);\n",
              "    }\n",
              "  }\n",
              "</style>\n",
              "\n",
              "  <script>\n",
              "    async function quickchart(key) {\n",
              "      const quickchartButtonEl =\n",
              "        document.querySelector('#' + key + ' button');\n",
              "      quickchartButtonEl.disabled = true;  // To prevent multiple clicks.\n",
              "      quickchartButtonEl.classList.add('colab-df-spinner');\n",
              "      try {\n",
              "        const charts = await google.colab.kernel.invokeFunction(\n",
              "            'suggestCharts', [key], {});\n",
              "      } catch (error) {\n",
              "        console.error('Error during call to suggestCharts:', error);\n",
              "      }\n",
              "      quickchartButtonEl.classList.remove('colab-df-spinner');\n",
              "      quickchartButtonEl.classList.add('colab-df-quickchart-complete');\n",
              "    }\n",
              "    (() => {\n",
              "      let quickchartButtonEl =\n",
              "        document.querySelector('#df-e272711d-0785-4b0c-9497-de8334a40366 button');\n",
              "      quickchartButtonEl.style.display =\n",
              "        google.colab.kernel.accessAllowed ? 'block' : 'none';\n",
              "    })();\n",
              "  </script>\n",
              "</div>\n",
              "\n",
              "    </div>\n",
              "  </div>\n"
            ],
            "application/vnd.google.colaboratory.intrinsic+json": {
              "type": "dataframe",
              "variable_name": "df",
              "repr_error": "'str' object has no attribute 'empty'"
            }
          },
          "metadata": {},
          "execution_count": 261
        }
      ]
    },
    {
      "cell_type": "markdown",
      "source": [
        "#Preprocessing the data"
      ],
      "metadata": {
        "id": "VtusHe6hPbA7"
      }
    },
    {
      "cell_type": "code",
      "source": [
        "#Converting 'Date' column to datetime\n",
        "df['Date'] = pd.to_datetime(df['Date'], format='%m/%d/%Y')\n",
        "\n",
        "# Removing non-numeric characters and convert numerical columns to float\n",
        "for col in df.columns[1:]:\n",
        "    df[col] = df[col].str.replace(r'[^\\d.]', '', regex=True).astype(float)\n",
        "\n",
        "#handling missing values\n",
        "print(\"Missing values before handling:\")\n",
        "print(df.isnull().sum())\n",
        "\n",
        "# Drop rows with missing values\n",
        "df.dropna(inplace=True)\n",
        "\n",
        "#Normalizing the numerical data\n",
        "scaler = MinMaxScaler(feature_range=(0, 1))\n",
        "scaled_data = scaler.fit_transform(df.drop(columns='Date'))\n",
        "\n",
        "# Creating time series data with three-day windows\n",
        "lookback = 3\n",
        "generator = TimeseriesGenerator(scaled_data, scaled_data, length=lookback, batch_size=1)\n",
        "\n",
        "# Split the data into training and testing sets (80-20 % split)\n",
        "train_size = int(len(scaled_data) * 0.8)\n",
        "test_size = len(scaled_data) - train_size\n",
        "train, test = scaled_data[0:train_size,:], scaled_data[train_size:len(scaled_data),:]\n"
      ],
      "metadata": {
        "id": "iiQKARRxPdRg",
        "colab": {
          "base_uri": "https://localhost:8080/"
        },
        "outputId": "f9d18fbd-1576-487e-b97b-70a73b5bfe2b"
      },
      "execution_count": 262,
      "outputs": [
        {
          "output_type": "stream",
          "name": "stdout",
          "text": [
            "Missing values before handling:\n",
            "Date        0\n",
            "Price       0\n",
            "Open        0\n",
            "High        0\n",
            "Low         0\n",
            "Vol.        0\n",
            "Change %    0\n",
            "dtype: int64\n"
          ]
        }
      ]
    },
    {
      "cell_type": "markdown",
      "source": [
        "#Creating sequences"
      ],
      "metadata": {
        "id": "h15RwUxoRO7R"
      }
    },
    {
      "cell_type": "code",
      "source": [
        "#for LSTM model\n",
        "def create_sequences(data, lookback):\n",
        "    X, y = [], []\n",
        "    for i in range(len(data) - lookback):\n",
        "        X.append(data[i:(i + lookback), 0])\n",
        "        y.append(data[i + lookback, 0])\n",
        "    return np.array(X), np.array(y)\n",
        "\n",
        "#for training and testing data\n",
        "X_train, y_train = create_sequences(train, lookback)\n",
        "X_test, y_test = create_sequences(test, lookback)\n",
        "\n",
        "#Reshaping the data for LSTM input\n",
        "X_train = np.reshape(X_train, (X_train.shape[0], X_train.shape[1], 1))\n",
        "X_test = np.reshape(X_test, (X_test.shape[0], X_test.shape[1], 1))"
      ],
      "metadata": {
        "id": "nSxk6d7TqZ4K"
      },
      "execution_count": 263,
      "outputs": []
    },
    {
      "cell_type": "markdown",
      "source": [
        "#Constructing the LSTM model"
      ],
      "metadata": {
        "id": "T9ajGOyUR2wK"
      }
    },
    {
      "cell_type": "code",
      "source": [
        "model = Sequential()\n",
        "model.add(LSTM(50, input_shape=(X_train.shape[1], X_train.shape[2]), return_sequences=True))\n",
        "model.add(Dropout(0.2))\n",
        "model.add(LSTM(64, return_sequences=False))\n",
        "model.add(Dense(1))"
      ],
      "metadata": {
        "id": "rpKGocLTSDZh"
      },
      "execution_count": 264,
      "outputs": []
    },
    {
      "cell_type": "markdown",
      "source": [
        "#Training the model"
      ],
      "metadata": {
        "id": "u-O33zblSLvI"
      }
    },
    {
      "cell_type": "code",
      "source": [
        "model.compile(loss='mean_squared_error', optimizer='adam')\n",
        "hist = model.fit(X_train, y_train, epochs=10, batch_size=1, verbose=1)"
      ],
      "metadata": {
        "id": "9cXQ9pfkSNmY",
        "colab": {
          "base_uri": "https://localhost:8080/"
        },
        "outputId": "3e5718f0-19e3-40b2-ec74-50edef94f0b4"
      },
      "execution_count": 265,
      "outputs": [
        {
          "output_type": "stream",
          "name": "stdout",
          "text": [
            "Epoch 1/10\n",
            "1109/1109 [==============================] - 15s 8ms/step - loss: 0.0024\n",
            "Epoch 2/10\n",
            "1109/1109 [==============================] - 8s 7ms/step - loss: 0.0013\n",
            "Epoch 3/10\n",
            "1109/1109 [==============================] - 7s 6ms/step - loss: 0.0013\n",
            "Epoch 4/10\n",
            "1109/1109 [==============================] - 8s 7ms/step - loss: 0.0011\n",
            "Epoch 5/10\n",
            "1109/1109 [==============================] - 6s 6ms/step - loss: 9.6001e-04\n",
            "Epoch 6/10\n",
            "1109/1109 [==============================] - 8s 7ms/step - loss: 8.5148e-04\n",
            "Epoch 7/10\n",
            "1109/1109 [==============================] - 7s 6ms/step - loss: 7.8703e-04\n",
            "Epoch 8/10\n",
            "1109/1109 [==============================] - 8s 7ms/step - loss: 9.9479e-04\n",
            "Epoch 9/10\n",
            "1109/1109 [==============================] - 8s 7ms/step - loss: 7.3179e-04\n",
            "Epoch 10/10\n",
            "1109/1109 [==============================] - 8s 7ms/step - loss: 8.1557e-04\n"
          ]
        }
      ]
    },
    {
      "cell_type": "markdown",
      "source": [
        "#Predicting stock prices for test data"
      ],
      "metadata": {
        "id": "fY_EhzphSVcc"
      }
    },
    {
      "cell_type": "code",
      "source": [
        "Y_predictions = model.predict(X_test)\n",
        "# Reshape Y_predictions to match the shape of X_train\n",
        "Y_predictions = Y_predictions.reshape(-1, 1)\n"
      ],
      "metadata": {
        "id": "aN1g444vSYQp",
        "colab": {
          "base_uri": "https://localhost:8080/"
        },
        "outputId": "1dd4affb-0f69-447b-c62c-97639321c95b"
      },
      "execution_count": 266,
      "outputs": [
        {
          "output_type": "stream",
          "name": "stdout",
          "text": [
            "9/9 [==============================] - 1s 8ms/step\n"
          ]
        }
      ]
    },
    {
      "cell_type": "code",
      "source": [
        "plt.plot(y_test, color = 'red', label = 'Actual Stock Price')\n",
        "plt.plot(Y_predictions, color = 'blue', label = 'Predicted Stock Price')\n",
        "plt.title('Stock price prediction')\n",
        "plt.xlabel('Time')\n",
        "plt.ylabel('Stock Price')\n",
        "plt.legend()\n",
        "plt.show()"
      ],
      "metadata": {
        "id": "dyDITxHBEXou",
        "colab": {
          "base_uri": "https://localhost:8080/",
          "height": 472
        },
        "outputId": "32cda3d1-fcd2-49ed-9174-876a88e22edd"
      },
      "execution_count": 267,
      "outputs": [
        {
          "output_type": "display_data",
          "data": {
            "text/plain": [
              "<Figure size 640x480 with 1 Axes>"
            ],
            "image/png": "[encoded data removed]"
          },
          "metadata": {}
        }
      ]
    },
    {
      "cell_type": "markdown",
      "source": [
        "#Calculating RMSE"
      ],
      "metadata": {
        "id": "AANYuH8bSkYs"
      }
    },
    {
      "cell_type": "code",
      "source": [
        "rmse = np.sqrt(np.mean(((Y_predictions - y_test) ** 2)))\n",
        "print(\"Root Mean Squared Error (RMSE):\", rmse)"
      ],
      "metadata": {
        "id": "4E5HGhOFSoxe",
        "colab": {
          "base_uri": "https://localhost:8080/"
        },
        "outputId": "66553667-86a0-49d3-feb5-c3b16c89e720"
      },
      "execution_count": 268,
      "outputs": [
        {
          "output_type": "stream",
          "name": "stdout",
          "text": [
            "Root Mean Squared Error (RMSE): 0.01522175573339386\n"
          ]
        }
      ]
    }
  ]
}